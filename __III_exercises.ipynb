{
 "cells": [
  {
   "cell_type": "markdown",
   "id": "665c6a23",
   "metadata": {},
   "source": [
    "# Pratybos"
   ]
  },
  {
   "cell_type": "markdown",
   "id": "9d6cd83e",
   "metadata": {},
   "source": [
    "<code>**1-2  : Duomenys ir grafikai**</code><br>\n",
    "<code>**3-5  : Matrica ir vektorius**</code><br>\n",
    "<code>**6-7  : Išvestinės**</code><br>\n",
    "<code>**8-10 : Tiesinė regresija**</code><br>\n"
   ]
  },
  {
   "cell_type": "markdown",
   "id": "36ef2217",
   "metadata": {},
   "source": [
    "### Duomenys ir grafikai"
   ]
  },
  {
   "cell_type": "markdown",
   "id": "178ba9cb",
   "metadata": {},
   "source": [
    "## #1"
   ]
  },
  {
   "cell_type": "code",
   "execution_count": 1,
   "id": "d58b93be-8c55-4682-b318-e0202c8f6006",
   "metadata": {},
   "outputs": [
    {
     "name": "stderr",
     "output_type": "stream",
     "text": [
      "C:\\Users\\rytis\\AppData\\Local\\Temp\\ipykernel_21592\\2054800677.py:8: MatplotlibDeprecationWarning: The seaborn styles shipped by Matplotlib are deprecated since 3.6, as they no longer correspond to the styles shipped by seaborn. However, they will remain available as 'seaborn-v0_8-<style>'. Alternatively, directly use the seaborn API instead.\n",
      "  plt.style.use('seaborn')\n"
     ]
    }
   ],
   "source": [
    "# Šią eilute įvykdyti yra butina nes taip importuojate\n",
    "# pyplot modulį iš matplotlib bibliotekos ir pandas biblioteką\n",
    "# plt.style.use('seaborn'), šis stilius gali būti pakeistas jūsų pačių nuožiura\n",
    "\n",
    "from matplotlib import pyplot as plt\n",
    "import pandas as pd\n",
    "\n",
    "plt.style.use('seaborn')\n"
   ]
  },
  {
   "cell_type": "markdown",
   "id": "2516713c",
   "metadata": {},
   "source": [
    "Programuotojų alyginimai yra saugomi <code>**dev_salary.csv**</code> faile kuris yra \n",
    "<code>**DI_101/data_samples**</code> aplanke. Jūsų uždavinys yra \n",
    " 1) Įkelti šiuos duomenys (rekomenduoju naudotis `pd.read_csv()` metodu) ir iš jų išskirti dvi kategorijas:\n",
    "   - All devs\n",
    "   - Age\n",
    " 2) Atvaizduoti šiuos išskyrtus duomenys <code>**taškinės diagramos**</code> formoje. Diagromos x ašis turi būti programuotojų amžius (ang. age) ir y ašis visų programuotojų alyginimai (ang. all devs)."
   ]
  },
  {
   "cell_type": "code",
   "execution_count": 48,
   "id": "dfbb7e1e",
   "metadata": {},
   "outputs": [
    {
     "data": {
      "text/plain": [
       "0      17784\n",
       "1      16500\n",
       "2      18012\n",
       "3      20628\n",
       "4      25206\n",
       "5      30252\n",
       "6      34368\n",
       "7      38496\n",
       "8      42000\n",
       "9      46752\n",
       "10     49320\n",
       "11     53200\n",
       "12     56000\n",
       "13     62316\n",
       "14     64928\n",
       "15     67317\n",
       "16     68748\n",
       "17     73752\n",
       "18     77232\n",
       "19     78000\n",
       "20     78508\n",
       "21     79536\n",
       "22     82488\n",
       "23     88935\n",
       "24     90000\n",
       "25     90056\n",
       "26     95000\n",
       "27     90000\n",
       "28     91633\n",
       "29     91660\n",
       "30     98150\n",
       "31     98964\n",
       "32    100000\n",
       "33     98988\n",
       "34    100000\n",
       "35    108923\n",
       "36    105000\n",
       "37    103117\n",
       "Name: All_Devs, dtype: int64"
      ]
     },
     "execution_count": 48,
     "metadata": {},
     "output_type": "execute_result"
    }
   ],
   "source": [
    "#TODO: Uždavinio 1 sprendimas turi būti čia\n",
    "from matplotlib import pyplot as plt\n",
    "\n",
    "import pandas as pd\n",
    "data = pd.read_csv('../data_samples/dev_salary.csv')\n",
    "data.Age\n",
    "data.All_Devs\n",
    "\n"
   ]
  },
  {
   "cell_type": "code",
   "execution_count": 49,
   "id": "ca57e4fb-64be-4925-bfd4-4986d6d09934",
   "metadata": {},
   "outputs": [
    {
     "data": {
      "image/png": "[encoded data removed]",
      "text/plain": [
       "<Figure size 800x550 with 1 Axes>"
      ]
     },
     "metadata": {},
     "output_type": "display_data"
    }
   ],
   "source": [
    "#TODO: 2 sprendimas turi būti čia\n",
    "from matplotlib import pyplot as plt\n",
    "\n",
    "import pandas as pd\n",
    "\n",
    "data = pd.read_csv('../data_samples/dev_salary.csv')\n",
    "data\n",
    "plt.scatter(data['Age'],data['All_Devs'])\n",
    "plt.xlabel('Age')\n",
    "plt.ylabel('All_Devs')\n",
    "plt.show()\n"
   ]
  },
  {
   "cell_type": "markdown",
   "id": "de4a0908",
   "metadata": {},
   "source": [
    "#2"
   ]
  },
  {
   "cell_type": "markdown",
   "id": "d3895083",
   "metadata": {},
   "source": [
    "Lietuvos darbuotojų vidutinis ir minimalus darbo užmokestis ir vidutinė socialinio draudimo senatvės pensija nuo 2016 II ketvirčio iki 2022 II ketvirčio yra išsaugoti .csv failę kuris yra saugomas <code>**DI_101/data_samples**</code> aplanke pavadinimu <code>**lt_sal_pen_prep.csv**</code> Duomenų kategorijos yra šios : \n",
    " - Neto atlyginimas - `neto`\n",
    " - Bruto atlyginimas - `bruto`\n",
    " - Minimali mėnesinė alga - `minimal`\n",
    " - Senatvės pensija - `pension`\n",
    " \n",
    " Jūsų uždavinys:\n",
    " 1) Įkelti šiuo duomenys naudojantis `pd.read_csv()` metodu, žinoma jeigu norite galite tai padaryti kitu metodu, tačiau rekomenduoju šį kaip patogiausią.\n",
    " 2) Atvaizduoti šiuos duomenys viename grafike, neto ir bruto alyginimus kaip vertikalią stulpelinę diagramą, o minimalią mėnėsinę alga ir senatvės pensija tame pačiame grafike kaip kreives. "
   ]
  },
  {
   "cell_type": "code",
   "execution_count": 56,
   "id": "629050bd-4365-44a0-a200-8999f7a5ac8c",
   "metadata": {},
   "outputs": [
    {
     "data": {
      "text/html": [
       "<div>\n",
       "<style scoped>\n",
       "    .dataframe tbody tr th:only-of-type {\n",
       "        vertical-align: middle;\n",
       "    }\n",
       "\n",
       "    .dataframe tbody tr th {\n",
       "        vertical-align: top;\n",
       "    }\n",
       "\n",
       "    .dataframe thead th {\n",
       "        text-align: right;\n",
       "    }\n",
       "</style>\n",
       "<table border=\"1\" class=\"dataframe\">\n",
       "  <thead>\n",
       "    <tr style=\"text-align: right;\">\n",
       "      <th></th>\n",
       "      <th>periods</th>\n",
       "      <th>bruto</th>\n",
       "      <th>neto</th>\n",
       "      <th>minimal</th>\n",
       "      <th>pension</th>\n",
       "    </tr>\n",
       "  </thead>\n",
       "  <tbody>\n",
       "    <tr>\n",
       "      <th>0</th>\n",
       "      <td>2016K2</td>\n",
       "      <td>771.9</td>\n",
       "      <td>600.8</td>\n",
       "      <td>350.0</td>\n",
       "      <td>255.24</td>\n",
       "    </tr>\n",
       "    <tr>\n",
       "      <th>1</th>\n",
       "      <td>2016K3</td>\n",
       "      <td>793.3</td>\n",
       "      <td>615.9</td>\n",
       "      <td>380.0</td>\n",
       "      <td>255.34</td>\n",
       "    </tr>\n",
       "    <tr>\n",
       "      <th>2</th>\n",
       "      <td>2016K4</td>\n",
       "      <td>822.8</td>\n",
       "      <td>636.9</td>\n",
       "      <td>380.0</td>\n",
       "      <td>255.43</td>\n",
       "    </tr>\n",
       "    <tr>\n",
       "      <th>3</th>\n",
       "      <td>2017K1</td>\n",
       "      <td>817.6</td>\n",
       "      <td>644.5</td>\n",
       "      <td>380.0</td>\n",
       "      <td>273.82</td>\n",
       "    </tr>\n",
       "    <tr>\n",
       "      <th>4</th>\n",
       "      <td>2017K2</td>\n",
       "      <td>838.7</td>\n",
       "      <td>659.0</td>\n",
       "      <td>380.0</td>\n",
       "      <td>273.94</td>\n",
       "    </tr>\n",
       "    <tr>\n",
       "      <th>5</th>\n",
       "      <td>2017K3</td>\n",
       "      <td>850.8</td>\n",
       "      <td>667.3</td>\n",
       "      <td>380.0</td>\n",
       "      <td>273.99</td>\n",
       "    </tr>\n",
       "    <tr>\n",
       "      <th>6</th>\n",
       "      <td>2017K4</td>\n",
       "      <td>884.8</td>\n",
       "      <td>690.5</td>\n",
       "      <td>380.0</td>\n",
       "      <td>287.04</td>\n",
       "    </tr>\n",
       "    <tr>\n",
       "      <th>7</th>\n",
       "      <td>2018K1</td>\n",
       "      <td>895.2</td>\n",
       "      <td>700.2</td>\n",
       "      <td>400.0</td>\n",
       "      <td>307.35</td>\n",
       "    </tr>\n",
       "    <tr>\n",
       "      <th>8</th>\n",
       "      <td>2018K2</td>\n",
       "      <td>926.7</td>\n",
       "      <td>721.8</td>\n",
       "      <td>400.0</td>\n",
       "      <td>307.46</td>\n",
       "    </tr>\n",
       "    <tr>\n",
       "      <th>9</th>\n",
       "      <td>2018K3</td>\n",
       "      <td>935.7</td>\n",
       "      <td>728.0</td>\n",
       "      <td>400.0</td>\n",
       "      <td>311.99</td>\n",
       "    </tr>\n",
       "    <tr>\n",
       "      <th>10</th>\n",
       "      <td>2018K4</td>\n",
       "      <td>970.3</td>\n",
       "      <td>751.7</td>\n",
       "      <td>400.0</td>\n",
       "      <td>319.36</td>\n",
       "    </tr>\n",
       "    <tr>\n",
       "      <th>11</th>\n",
       "      <td>2019K1</td>\n",
       "      <td>1262.7</td>\n",
       "      <td>802.7</td>\n",
       "      <td>555.0</td>\n",
       "      <td>344.12</td>\n",
       "    </tr>\n",
       "    <tr>\n",
       "      <th>12</th>\n",
       "      <td>2019K2</td>\n",
       "      <td>1289.0</td>\n",
       "      <td>817.8</td>\n",
       "      <td>555.0</td>\n",
       "      <td>344.14</td>\n",
       "    </tr>\n",
       "    <tr>\n",
       "      <th>13</th>\n",
       "      <td>2019K3</td>\n",
       "      <td>1317.6</td>\n",
       "      <td>834.3</td>\n",
       "      <td>555.0</td>\n",
       "      <td>344.90</td>\n",
       "    </tr>\n",
       "    <tr>\n",
       "      <th>14</th>\n",
       "      <td>2019K4</td>\n",
       "      <td>1358.6</td>\n",
       "      <td>857.9</td>\n",
       "      <td>555.0</td>\n",
       "      <td>344.53</td>\n",
       "    </tr>\n",
       "    <tr>\n",
       "      <th>15</th>\n",
       "      <td>2020K1</td>\n",
       "      <td>1381.0</td>\n",
       "      <td>879.2</td>\n",
       "      <td>607.0</td>\n",
       "      <td>376.27</td>\n",
       "    </tr>\n",
       "    <tr>\n",
       "      <th>16</th>\n",
       "      <td>2020K2</td>\n",
       "      <td>1398.5</td>\n",
       "      <td>889.2</td>\n",
       "      <td>607.0</td>\n",
       "      <td>376.40</td>\n",
       "    </tr>\n",
       "    <tr>\n",
       "      <th>17</th>\n",
       "      <td>2020K3</td>\n",
       "      <td>1454.8</td>\n",
       "      <td>927.9</td>\n",
       "      <td>607.0</td>\n",
       "      <td>376.88</td>\n",
       "    </tr>\n",
       "    <tr>\n",
       "      <th>18</th>\n",
       "      <td>2020K4</td>\n",
       "      <td>1524.2</td>\n",
       "      <td>967.3</td>\n",
       "      <td>607.0</td>\n",
       "      <td>376.40</td>\n",
       "    </tr>\n",
       "    <tr>\n",
       "      <th>19</th>\n",
       "      <td>2021K1</td>\n",
       "      <td>1517.4</td>\n",
       "      <td>966.5</td>\n",
       "      <td>642.0</td>\n",
       "      <td>413.15</td>\n",
       "    </tr>\n",
       "    <tr>\n",
       "      <th>20</th>\n",
       "      <td>2021K2</td>\n",
       "      <td>1566.4</td>\n",
       "      <td>994.4</td>\n",
       "      <td>642.0</td>\n",
       "      <td>413.77</td>\n",
       "    </tr>\n",
       "    <tr>\n",
       "      <th>21</th>\n",
       "      <td>2021K3</td>\n",
       "      <td>1598.1</td>\n",
       "      <td>1012.4</td>\n",
       "      <td>642.0</td>\n",
       "      <td>413.61</td>\n",
       "    </tr>\n",
       "    <tr>\n",
       "      <th>22</th>\n",
       "      <td>2021K4</td>\n",
       "      <td>1679.3</td>\n",
       "      <td>1058.6</td>\n",
       "      <td>642.0</td>\n",
       "      <td>412.90</td>\n",
       "    </tr>\n",
       "    <tr>\n",
       "      <th>23</th>\n",
       "      <td>2022K1</td>\n",
       "      <td>1729.9</td>\n",
       "      <td>1087.4</td>\n",
       "      <td>730.0</td>\n",
       "      <td>459.94</td>\n",
       "    </tr>\n",
       "    <tr>\n",
       "      <th>24</th>\n",
       "      <td>2022K2</td>\n",
       "      <td>1780.5</td>\n",
       "      <td>1116.2</td>\n",
       "      <td>730.0</td>\n",
       "      <td>467.46</td>\n",
       "    </tr>\n",
       "  </tbody>\n",
       "</table>\n",
       "</div>"
      ],
      "text/plain": [
       "   periods   bruto    neto  minimal  pension\n",
       "0   2016K2   771.9   600.8    350.0   255.24\n",
       "1   2016K3   793.3   615.9    380.0   255.34\n",
       "2   2016K4   822.8   636.9    380.0   255.43\n",
       "3   2017K1   817.6   644.5    380.0   273.82\n",
       "4   2017K2   838.7   659.0    380.0   273.94\n",
       "5   2017K3   850.8   667.3    380.0   273.99\n",
       "6   2017K4   884.8   690.5    380.0   287.04\n",
       "7   2018K1   895.2   700.2    400.0   307.35\n",
       "8   2018K2   926.7   721.8    400.0   307.46\n",
       "9   2018K3   935.7   728.0    400.0   311.99\n",
       "10  2018K4   970.3   751.7    400.0   319.36\n",
       "11  2019K1  1262.7   802.7    555.0   344.12\n",
       "12  2019K2  1289.0   817.8    555.0   344.14\n",
       "13  2019K3  1317.6   834.3    555.0   344.90\n",
       "14  2019K4  1358.6   857.9    555.0   344.53\n",
       "15  2020K1  1381.0   879.2    607.0   376.27\n",
       "16  2020K2  1398.5   889.2    607.0   376.40\n",
       "17  2020K3  1454.8   927.9    607.0   376.88\n",
       "18  2020K4  1524.2   967.3    607.0   376.40\n",
       "19  2021K1  1517.4   966.5    642.0   413.15\n",
       "20  2021K2  1566.4   994.4    642.0   413.77\n",
       "21  2021K3  1598.1  1012.4    642.0   413.61\n",
       "22  2021K4  1679.3  1058.6    642.0   412.90\n",
       "23  2022K1  1729.9  1087.4    730.0   459.94\n",
       "24  2022K2  1780.5  1116.2    730.0   467.46"
      ]
     },
     "execution_count": 56,
     "metadata": {},
     "output_type": "execute_result"
    }
   ],
   "source": [
    "#TODO: Uždavinio 1 sprendimas turi būti čia\n",
    "from matplotlib import pyplot as plt\n",
    "import pandas as pd\n",
    "data = pd.read_csv('../data_samples/lt_sal_pen_prep.csv')\n",
    "data\n"
   ]
  },
  {
   "cell_type": "code",
   "execution_count": 110,
   "id": "e5fd1234-0f79-4908-b645-f17a617e2e08",
   "metadata": {},
   "outputs": [
    {
     "ename": "TypeError",
     "evalue": "bar() got multiple values for argument 'height'",
     "output_type": "error",
     "traceback": [
      "\u001b[1;31m---------------------------------------------------------------------------\u001b[0m",
      "\u001b[1;31mTypeError\u001b[0m                                 Traceback (most recent call last)",
      "Cell \u001b[1;32mIn [110], line 14\u001b[0m\n\u001b[0;32m     10\u001b[0m x \u001b[38;5;241m=\u001b[39m data\u001b[38;5;241m.\u001b[39mbruto\n\u001b[0;32m     11\u001b[0m y \u001b[38;5;241m=\u001b[39m data\u001b[38;5;241m.\u001b[39mneto\n\u001b[1;32m---> 14\u001b[0m \u001b[43mplt\u001b[49m\u001b[38;5;241;43m.\u001b[39;49m\u001b[43mbar\u001b[49m\u001b[43m(\u001b[49m\u001b[43mx\u001b[49m\u001b[43m,\u001b[49m\u001b[43m \u001b[49m\u001b[43my\u001b[49m\u001b[43m,\u001b[49m\u001b[43m \u001b[49m\u001b[43mheight\u001b[49m\u001b[38;5;241;43m=\u001b[39;49m\u001b[43mbar_width\u001b[49m\u001b[43m)\u001b[49m\n\u001b[0;32m     15\u001b[0m plt\u001b[38;5;241m.\u001b[39myticks(x_range)\n\u001b[0;32m     16\u001b[0m plt\u001b[38;5;241m.\u001b[39mtight_layout()\n",
      "\u001b[1;31mTypeError\u001b[0m: bar() got multiple values for argument 'height'"
     ]
    }
   ],
   "source": [
    "#TODO: 2 sprendimas ir grafikas turi būti čia\n",
    "from matplotlib import pyplot as plt\n",
    "import pandas as pd\n",
    "import numpy as np\n",
    "\n",
    "\n",
    "data = pd.read_csv('../data_samples/lt_sal_pen_prep.csv')\n",
    "data\n",
    "bar_width = 0.25\n",
    "x = data.bruto\n",
    "y = data.neto\n",
    "\n",
    "\n",
    "plt.bar(x, y, height=bar_width)\n",
    "plt.yticks(x_range)\n",
    "plt.tight_layout()\n",
    "plt.grid(True)\n",
    "\n",
    "\n",
    "\n"
   ]
  },
  {
   "cell_type": "markdown",
   "id": "394dbe4f",
   "metadata": {
    "tags": []
   },
   "source": [
    "### Matrica ir vektorius"
   ]
  },
  {
   "cell_type": "markdown",
   "id": "87091170",
   "metadata": {},
   "source": [
    "## #3"
   ]
  },
  {
   "cell_type": "markdown",
   "id": "24488c7e-5e15-4a00-b62b-4e94c06dfbab",
   "metadata": {},
   "source": [
    "Aprašyti matricas kaip `np.array` duomenų struktūras ir alikti sandaugos operaciją"
   ]
  },
  {
   "cell_type": "markdown",
   "id": "c91d4fad",
   "metadata": {},
   "source": [
    "\\begin{align}\n",
    "\\begin{bmatrix}\n",
    "0.22 & 3.2 \\\\\n",
    "4.5 & 0.11 \\\\\n",
    "0.12 & 0.5 \\\\\n",
    "3.1 & 2.5\n",
    "\\end{bmatrix}\n",
    "\\times\n",
    "\\begin{bmatrix}\n",
    "0.5 & 2.1  & -2.5\\\\\n",
    "2.25 & -1.5 & 2.4\n",
    "\\end{bmatrix}\n",
    "\\end{align}"
   ]
  },
  {
   "cell_type": "code",
   "execution_count": 115,
   "id": "d4033701",
   "metadata": {},
   "outputs": [
    {
     "data": {
      "text/plain": [
       "array([[  7.31  ,  -4.338 ,   7.13  ],\n",
       "       [  2.4975,   9.285 , -10.986 ],\n",
       "       [  1.185 ,  -0.498 ,   0.9   ],\n",
       "       [  7.175 ,   2.76  ,  -1.75  ]])"
      ]
     },
     "execution_count": 115,
     "metadata": {},
     "output_type": "execute_result"
    }
   ],
   "source": [
    "# TODO: Jūsų operacijos turi būti čia\n",
    "import numpy as np\n",
    "A  = np.array([\n",
    "    [0.22, 3.2],\n",
    "    [4.5, 0.11],\n",
    "    [0.12, 0.5],\n",
    "    [3.1, 2.5]\n",
    "])\n",
    "B = np.array([\n",
    "    [0.5, 2.1, -2.5],\n",
    "    [2.25, -1.5, 2.4]\n",
    "])\n",
    "result = A.dot(B)\n",
    "result\n",
    "\n",
    "\n"
   ]
  },
  {
   "cell_type": "markdown",
   "id": "079281f4",
   "metadata": {},
   "source": [
    "## #4"
   ]
  },
  {
   "cell_type": "markdown",
   "id": "f2eea646-a15c-455b-9754-364df541d075",
   "metadata": {},
   "source": [
    "Kokia operacija reikia atlikti su A matrica kad rezultatas būtų toks kaip parodyta žemiau ?"
   ]
  },
  {
   "cell_type": "markdown",
   "id": "9f9d44ea-b831-4497-9ac5-f5088a85bef7",
   "metadata": {},
   "source": [
    "\\begin{multline*}\n",
    "A = \n",
    "\\begin{bmatrix}\n",
    "7 & -4 & -3 \\\\\n",
    "2.5 & 9 & 1.2 \\\\\n",
    "\\end{bmatrix}\n",
    "\\\n",
    "\\rightarrow\n",
    "\\\n",
    "\\begin{bmatrix}\n",
    "7 & 2.5  \\\\\n",
    "-4 & 9 \\\\\n",
    "-3 & 1.2 \n",
    "\\end{bmatrix}\n",
    "\\end{multline*}"
   ]
  },
  {
   "cell_type": "code",
   "execution_count": 122,
   "id": "959babea",
   "metadata": {},
   "outputs": [
    {
     "name": "stdout",
     "output_type": "stream",
     "text": [
      "X matrix savybės/reikšmės\n",
      "<class 'numpy.ndarray'>\n",
      "2\n",
      "(3, 2)\n"
     ]
    }
   ],
   "source": [
    "# TODO: operacijos sprendimą parašykite čia\n",
    "\n",
    "import numpy as np\n",
    "\n",
    "X = np.array([\n",
    "    [7, 2.5],\n",
    "    [-4, 9],\n",
    "    [-3, 1.2]\n",
    "  \n",
    "])\n",
    "\n",
    "## ypač svarbu atlikti .reshape() kad suformuoti vektorių\n",
    "θ = np.array([7, 2.5]).reshape(-1,1)\n",
    "\n",
    "##############\n",
    "print(\"X matrix savybės/reikšmės\")\n",
    "print(type(X))\n",
    "print(X.ndim)\n",
    "print(X.shape)\n",
    "##############\n",
    "\n",
    "\n",
    "\n",
    "\n",
    "\n",
    "\n",
    "\n",
    "\n"
   ]
  },
  {
   "cell_type": "markdown",
   "id": "25cf44f1",
   "metadata": {},
   "source": [
    "## #5"
   ]
  },
  {
   "cell_type": "markdown",
   "id": "5a2c9f7c-c74f-4380-b009-6834863065f3",
   "metadata": {},
   "source": [
    "Kokias operacija reikia atlikti su kvadratinę matrica D kad rezultatas būtų taip kaip parodyta žemiau ?"
   ]
  },
  {
   "cell_type": "markdown",
   "id": "fb459907-5012-4d97-85ea-4445cfe805d2",
   "metadata": {},
   "source": [
    "\\begin{multline*}\n",
    "D = \n",
    "\\begin{bmatrix}\n",
    "3 & 1.5 & 2 \\\\\n",
    "-1 & 1 & 0.5 \\\\\n",
    "-0.25 & 0.2 & 0.25 \\\\\n",
    "\\end{bmatrix}\n",
    "\\\n",
    "\\rightarrow\n",
    "\\\n",
    "\\begin{bmatrix}\n",
    "1 & 0 & 0 \\\\\n",
    "0 & 1 & 0 \\\\\n",
    "0 & 0 & 1 \\\\\n",
    "\\end{bmatrix}\n",
    "\\end{multline*}"
   ]
  },
  {
   "cell_type": "markdown",
   "id": "a0e0eae4-7290-4bb7-b993-d8cca6289c4a",
   "metadata": {},
   "source": [
    "<code>**Pastaba**</code> atliekant skaičiavimus su numpy jūsų rezultatų reikšmės matricoje gali pavirsti į pavyzdžiui tokias reikšmes: <code>**1.12757026e-17, -2.77555756e-17, 5.20417043e-18**</code>, dėl to nesijaudinkite tai yra labai maži skaičiai, tai indikuoja <code>**e-17, e-18 ir pan.**</code> esantis gali. Šiuos skaičius suapvalinus gautume 0."
   ]
  },
  {
   "cell_type": "code",
   "execution_count": 2,
   "id": "d1a2b1bd",
   "metadata": {},
   "outputs": [
    {
     "data": {
      "text/plain": [
       "array([[1.00000000e+00, 0.00000000e+00, 0.00000000e+00],\n",
       "       [4.85722573e-17, 1.00000000e+00, 8.88178420e-16],\n",
       "       [1.04083409e-17, 0.00000000e+00, 1.00000000e+00]])"
      ]
     },
     "execution_count": 2,
     "metadata": {},
     "output_type": "execute_result"
    }
   ],
   "source": [
    "# TODO: sprendimą rašykite čia\n",
    "import numpy as np\n",
    "D= np.array([\n",
    "    [3, 1.5,2],\n",
    "    [-1,1,0.5],\n",
    "    [-0.25,0.2,0.25]\n",
    "])\n",
    "required_action =np.linalg.inv(D)\n",
    "result = D.dot(required_action)\n",
    "result\n",
    "\n"
   ]
  },
  {
   "cell_type": "markdown",
   "id": "cc40b1af-0058-49dd-b1d3-fc8a8400e3ea",
   "metadata": {},
   "source": [
    "## Išvestinės"
   ]
  },
  {
   "cell_type": "markdown",
   "id": "c302da15",
   "metadata": {},
   "source": [
    "## #6"
   ]
  },
  {
   "cell_type": "markdown",
   "id": "649dcc88",
   "metadata": {},
   "source": [
    "Kokia yra šios funkcijos išvestinė ? : <br>\n",
    "\\begin{multline*}\n",
    "f(x) = 2x^2\n",
    "\\end{multline*}"
   ]
  },
  {
   "cell_type": "code",
   "execution_count": null,
   "id": "31e6f31b-2554-428a-81cc-e2b99095190d",
   "metadata": {},
   "outputs": [
    {
     "ename": "NameError",
     "evalue": "name 'x' is not defined",
     "output_type": "error",
     "traceback": [
      "\u001b[1;31m---------------------------------------------------------------------------\u001b[0m",
      "\u001b[1;31mNameError\u001b[0m                                 Traceback (most recent call last)",
      "Cell \u001b[1;32mIn [3], line 1\u001b[0m\n\u001b[1;32m----> 1\u001b[0m \u001b[43mx\u001b[49m\n",
      "\u001b[1;31mNameError\u001b[0m: name 'x' is not defined"
     ]
    }
   ],
   "source": [
    "\n"
   ]
  },
  {
   "cell_type": "code",
   "execution_count": 127,
   "id": "a935ef1b-4016-47c2-9465-13b5c2a6bb40",
   "metadata": {},
   "outputs": [
    {
     "ename": "IndentationError",
     "evalue": "unexpected indent (1751969691.py, line 6)",
     "output_type": "error",
     "traceback": [
      "\u001b[1;36m  Cell \u001b[1;32mIn [127], line 6\u001b[1;36m\u001b[0m\n\u001b[1;33m    import matplotlib pyplot as plt\u001b[0m\n\u001b[1;37m    ^\u001b[0m\n\u001b[1;31mIndentationError\u001b[0m\u001b[1;31m:\u001b[0m unexpected indent\n"
     ]
    }
   ],
   "source": [
    "#TODO:\n",
    "# jūsų atsakymas turi būti čia:\n",
    "𝑓(𝑥)=𝑥2\n",
    "Δ𝑓(𝑥)Δ𝑥=𝑓(𝑥0+Δ𝑥)−𝑓(𝑥0)Δ𝑥=(𝑥0+Δ𝑥)2−𝑥20Δ𝑥=𝑥20+2𝑥0Δ𝑥+Δ𝑥2−𝑥20Δ𝑥=2𝑥0Δ𝑥+Δ𝑥2Δ𝑥\n",
    "Δ𝑥(2𝑥0+Δ𝑥)Δ𝑥=2𝑥0+Δ𝑥\n",
    "2𝑥0+Δ𝑥,Δ𝑥→0\n",
    "2𝑥0\n",
    "𝑓′(𝑥0)=2𝑥0\n",
    "\n",
    "𝑓′(𝑥)=2𝑥\n"
   ]
  },
  {
   "cell_type": "markdown",
   "id": "1c393ddf-01a6-4645-9779-b3a82c98801d",
   "metadata": {},
   "source": [
    "## #7"
   ]
  },
  {
   "cell_type": "markdown",
   "id": "a991be4c-b7cb-4eb2-8b53-d2666bc8cb59",
   "metadata": {},
   "source": [
    "Kokia yra šios funkcijos išvestinė ? : <br>\n",
    "\n",
    "\\begin{multline*}\n",
    "f(x) = 2 + x^4\n",
    "\\end{multline*}"
   ]
  },
  {
   "cell_type": "code",
   "execution_count": 54,
   "id": "970f1433",
   "metadata": {},
   "outputs": [],
   "source": [
    "#TODO:\n",
    "# jūsų atsakymas turi būti čia:\n",
    "\n",
    "𝑚=𝑓(𝑦1)−𝑓(𝑦0)=Δ𝑓(𝑥)\n",
    "   𝑥1−𝑥0=Δ𝑓(𝑥)   Δ𝑥                \n",
    "\n",
    "\n"
   ]
  },
  {
   "cell_type": "markdown",
   "id": "27846b3d-c3fe-42d9-9f9e-ffa26092dc2b",
   "metadata": {},
   "source": [
    "## Tiesinė regresija"
   ]
  },
  {
   "cell_type": "markdown",
   "id": "58fb9ac2",
   "metadata": {},
   "source": [
    "## #8"
   ]
  },
  {
   "cell_type": "markdown",
   "id": "da6ed3f5",
   "metadata": {},
   "source": [
    "Mūsų modelis turi du koeficientus  θ0 ir  θ1:\n",
    "\n",
    "$$h_{\\theta}(x) = \\theta_{0} + \\theta_{1}x$$\n",
    "\n",
    "Kas šiame tiesiniame modelyje yra šie du koefcientai ?"
   ]
  },
  {
   "cell_type": "code",
   "execution_count": 1,
   "id": "9f891ec1-57f4-460b-888c-f1300948a951",
   "metadata": {},
   "outputs": [],
   "source": [
    "def manofunkcija(arg):\n",
    "    return arg**2"
   ]
  },
  {
   "cell_type": "code",
   "execution_count": 60,
   "id": "c1889a9e-cf17-4e2b-9732-e64ee46dd66c",
   "metadata": {},
   "outputs": [],
   "source": [
    "#TODO\n",
    "# atsakymus rašote už lygybės ženklo, vienu žodžiu kabutėse \n",
    "# atsakymas gali būti anglų ir lietuvių kalbose (tik nenaudokite lieviškų raidžių!).\n",
    "𝜃0 = ''\n",
    "𝜃1 = ''"
   ]
  },
  {
   "cell_type": "markdown",
   "id": "92f0f5ef",
   "metadata": {},
   "source": [
    "## #9"
   ]
  },
  {
   "cell_type": "markdown",
   "id": "0f36d57a",
   "metadata": {},
   "source": [
    "Turime duomenų rinkinį ir ne ityn gerą modelį.\n",
    "\n",
    "$$h_{\\theta}(x) = 10 + 1x$$"
   ]
  },
  {
   "cell_type": "code",
   "execution_count": 129,
   "id": "2ea2a2a8-546d-4d5e-aa16-323f371032d6",
   "metadata": {},
   "outputs": [
    {
     "ename": "ModuleNotFoundError",
     "evalue": "No module named 'sklearn'",
     "output_type": "error",
     "traceback": [
      "\u001b[1;31m---------------------------------------------------------------------------\u001b[0m",
      "\u001b[1;31mModuleNotFoundError\u001b[0m                       Traceback (most recent call last)",
      "File \u001b[1;32m~\\DI_101\\scripts\\_linear_regression_sample_c.py:4\u001b[0m\n\u001b[0;32m      2\u001b[0m \u001b[38;5;28;01mimport\u001b[39;00m \u001b[38;5;21;01mpandas\u001b[39;00m \u001b[38;5;28;01mas\u001b[39;00m \u001b[38;5;21;01mpd\u001b[39;00m\n\u001b[0;32m      3\u001b[0m \u001b[38;5;28;01mimport\u001b[39;00m \u001b[38;5;21;01mmatplotlib\u001b[39;00m\u001b[38;5;21;01m.\u001b[39;00m\u001b[38;5;21;01mpyplot\u001b[39;00m \u001b[38;5;28;01mas\u001b[39;00m \u001b[38;5;21;01mplt\u001b[39;00m\n\u001b[1;32m----> 4\u001b[0m \u001b[38;5;28;01mfrom\u001b[39;00m \u001b[38;5;21;01msklearn\u001b[39;00m\u001b[38;5;21;01m.\u001b[39;00m\u001b[38;5;21;01mdatasets\u001b[39;00m \u001b[38;5;28;01mimport\u001b[39;00m load_boston\n\u001b[0;32m      6\u001b[0m plt\u001b[38;5;241m.\u001b[39mfigure(figsize\u001b[38;5;241m=\u001b[39m(\u001b[38;5;241m12\u001b[39m,\u001b[38;5;241m8\u001b[39m))\n\u001b[0;32m      8\u001b[0m data_set \u001b[38;5;241m=\u001b[39m load_boston()\n",
      "\u001b[1;31mModuleNotFoundError\u001b[0m: No module named 'sklearn'"
     ]
    }
   ],
   "source": [
    "%run ../scripts/_linear_regression_sample_c.py"
   ]
  },
  {
   "cell_type": "markdown",
   "id": "4bcbed63-8e68-46a7-baea-73f9640156cc",
   "metadata": {},
   "source": [
    "Šio duomenų rinkinio reikšmės yra:"
   ]
  },
  {
   "cell_type": "code",
   "execution_count": 63,
   "id": "1ed6e575-c906-4f53-baf3-8a8c9f53e36e",
   "metadata": {},
   "outputs": [],
   "source": [
    "x = [6.575, 6.421, 7.185, 6.998, 7.147, 6.43,  6.012, 6.172, 5.631, 6.004]\n",
    "y = [24,  21.6, 34.7, 33.4, 36.2, 28.7, 22.9, 27.1, 16.5, 18.9]"
   ]
  },
  {
   "cell_type": "markdown",
   "id": "bb65621b-eac9-44bb-b77c-7bca8673c9a5",
   "metadata": {},
   "source": [
    "Taikydami kainos funkciją <code>**(vidutinę kvadratinę klaidą, angl. mean squared error)**</code>, apskaičiuokite modelio su koeficientais 𝜃0 = 10, 𝜃1 = 1, klaidos kainą:\n",
    "\n",
    "$$J(\\theta_{1}) = \\dfrac{1}{2m}\\sum_{i=1}^{m}(h_{\\theta}(x^{(i)} ) -y^{(i)})^2 $$"
   ]
  },
  {
   "cell_type": "code",
   "execution_count": 66,
   "id": "2fb32f10-dd23-4013-9005-9f8a49a75549",
   "metadata": {},
   "outputs": [],
   "source": [
    "#TODO apskaičuotą reikšmę įrašykite čia vietoje 0:\n",
    "cost = 0"
   ]
  },
  {
   "cell_type": "markdown",
   "id": "d26d363f",
   "metadata": {},
   "source": [
    "## #10"
   ]
  },
  {
   "cell_type": "markdown",
   "id": "e2338c36-9c91-41ab-89b1-4c90611109cf",
   "metadata": {},
   "source": [
    "Nurodykite bent vieną variantą su koeficientų reikšmėmis kuomet pastarojo modelio, su tuo pačiu duomenų rinkiniu, klaidos kainą būtų bet šiek tiek mažesnė."
   ]
  },
  {
   "cell_type": "code",
   "execution_count": null,
   "id": "820d2f64",
   "metadata": {},
   "outputs": [],
   "source": [
    "#TODO įrašykite koeficiento reikšmes vietoje 0\n",
    "𝜃0 = 0\n",
    "𝜃1 = 0"
   ]
  },
  {
   "cell_type": "markdown",
   "id": "4f297f21",
   "metadata": {},
   "source": [
    "<code>**Šių uždavinų užbaigimo terminas iki 11/12 (imtinai). Sekmės!**</code>"
   ]
  },
  {
   "cell_type": "code",
   "execution_count": null,
   "id": "59ed7dd1-1e2e-40c2-8860-e6743c43c871",
   "metadata": {},
   "outputs": [],
   "source": []
  }
 ],
 "metadata": {
  "kernelspec": {
   "display_name": "Python 3 (ipykernel)",
   "language": "python",
   "name": "python3"
  },
  "language_info": {
   "codemirror_mode": {
    "name": "ipython",
    "version": 3
   },
   "file_extension": ".py",
   "mimetype": "text/x-python",
   "name": "python",
   "nbconvert_exporter": "python",
   "pygments_lexer": "ipython3",
   "version": "3.8.6"
  }
 },
 "nbformat": 4,
 "nbformat_minor": 5
}
